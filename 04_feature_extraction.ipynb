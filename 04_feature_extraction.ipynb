{
  "nbformat": 4,
  "nbformat_minor": 0,
  "metadata": {
    "colab": {
      "provenance": [],
      "authorship_tag": "ABX9TyPSAFSGart1+XWLZziBpnFh",
      "include_colab_link": true
    },
    "kernelspec": {
      "name": "python3",
      "display_name": "Python 3"
    },
    "language_info": {
      "name": "python"
    }
  },
  "cells": [
    {
      "cell_type": "markdown",
      "metadata": {
        "id": "view-in-github",
        "colab_type": "text"
      },
      "source": [
        "<a href=\"https://colab.research.google.com/github/AhsenRiaz/ML-Data/blob/main/04_feature_extraction.ipynb\" target=\"_parent\"><img src=\"https://colab.research.google.com/assets/colab-badge.svg\" alt=\"Open In Colab\"/></a>"
      ]
    },
    {
      "cell_type": "markdown",
      "source": [
        "# Feature Extraction\n",
        "By using TF-IDF, you can quickly find important words in each document and create a numerical representation of the text data that's suitable for machine learning tasks like text\n",
        "\n",
        "In this example we will use TF-IDF technique\n",
        "\n",
        "**Term Frequency (TF)**: For each word in a document, TF counts how many times it appears. Words that appear more often in a document get higher TF scores for that document.\n",
        "\n",
        "**Inverse Document Frequency (IDF)**: IDF measures how unique or rare a word is across all documents. If a word appears in many documents, it gets a lower IDF score because it's common. If a word appears in only a few documents, it gets a higher IDF score because it's rare.\n",
        "\n",
        "**TF-IDF Score**: To get the final TF-IDF score for a word in a document, you multiply its TF score (how often it appears in the document) by its IDF score (how unique it is across all documents)."
      ],
      "metadata": {
        "id": "TN03b1AWxd7v"
      }
    },
    {
      "cell_type": "code",
      "execution_count": 2,
      "metadata": {
        "id": "JBBajTyGxN0K"
      },
      "outputs": [],
      "source": [
        "import pandas as pd\n",
        "from sklearn.feature_extraction.text import TfidfVectorizer"
      ]
    },
    {
      "cell_type": "code",
      "source": [
        "news_dataset = pd.read_csv('/content/train.csv')"
      ],
      "metadata": {
        "id": "bcKTVLocyG3-"
      },
      "execution_count": 12,
      "outputs": []
    },
    {
      "cell_type": "code",
      "source": [
        "news_dataset.head()"
      ],
      "metadata": {
        "colab": {
          "base_uri": "https://localhost:8080/",
          "height": 206
        },
        "id": "tx3JT15NzslU",
        "outputId": "d24dc146-1af8-4745-9586-d73a7aabb26a"
      },
      "execution_count": 15,
      "outputs": [
        {
          "output_type": "execute_result",
          "data": {
            "text/plain": [
              "   label                                               news\n",
              "0  False  Says the Annies List political group supports ...\n",
              "1   True  When did the decline of coal start? It started...\n",
              "2   True  Hillary Clinton agrees with John McCain \"by vo...\n",
              "3  False  Health care reform legislation is likely to ma...\n",
              "4   True  The economic turnaround started at the end of ..."
            ],
            "text/html": [
              "\n",
              "\n",
              "  <div id=\"df-b12c59c7-71e0-4acc-b7ff-bcf6cf173395\">\n",
              "    <div class=\"colab-df-container\">\n",
              "      <div>\n",
              "<style scoped>\n",
              "    .dataframe tbody tr th:only-of-type {\n",
              "        vertical-align: middle;\n",
              "    }\n",
              "\n",
              "    .dataframe tbody tr th {\n",
              "        vertical-align: top;\n",
              "    }\n",
              "\n",
              "    .dataframe thead th {\n",
              "        text-align: right;\n",
              "    }\n",
              "</style>\n",
              "<table border=\"1\" class=\"dataframe\">\n",
              "  <thead>\n",
              "    <tr style=\"text-align: right;\">\n",
              "      <th></th>\n",
              "      <th>label</th>\n",
              "      <th>news</th>\n",
              "    </tr>\n",
              "  </thead>\n",
              "  <tbody>\n",
              "    <tr>\n",
              "      <th>0</th>\n",
              "      <td>False</td>\n",
              "      <td>Says the Annies List political group supports ...</td>\n",
              "    </tr>\n",
              "    <tr>\n",
              "      <th>1</th>\n",
              "      <td>True</td>\n",
              "      <td>When did the decline of coal start? It started...</td>\n",
              "    </tr>\n",
              "    <tr>\n",
              "      <th>2</th>\n",
              "      <td>True</td>\n",
              "      <td>Hillary Clinton agrees with John McCain \"by vo...</td>\n",
              "    </tr>\n",
              "    <tr>\n",
              "      <th>3</th>\n",
              "      <td>False</td>\n",
              "      <td>Health care reform legislation is likely to ma...</td>\n",
              "    </tr>\n",
              "    <tr>\n",
              "      <th>4</th>\n",
              "      <td>True</td>\n",
              "      <td>The economic turnaround started at the end of ...</td>\n",
              "    </tr>\n",
              "  </tbody>\n",
              "</table>\n",
              "</div>\n",
              "      <button class=\"colab-df-convert\" onclick=\"convertToInteractive('df-b12c59c7-71e0-4acc-b7ff-bcf6cf173395')\"\n",
              "              title=\"Convert this dataframe to an interactive table.\"\n",
              "              style=\"display:none;\">\n",
              "\n",
              "  <svg xmlns=\"http://www.w3.org/2000/svg\" height=\"24px\"viewBox=\"0 0 24 24\"\n",
              "       width=\"24px\">\n",
              "    <path d=\"M0 0h24v24H0V0z\" fill=\"none\"/>\n",
              "    <path d=\"M18.56 5.44l.94 2.06.94-2.06 2.06-.94-2.06-.94-.94-2.06-.94 2.06-2.06.94zm-11 1L8.5 8.5l.94-2.06 2.06-.94-2.06-.94L8.5 2.5l-.94 2.06-2.06.94zm10 10l.94 2.06.94-2.06 2.06-.94-2.06-.94-.94-2.06-.94 2.06-2.06.94z\"/><path d=\"M17.41 7.96l-1.37-1.37c-.4-.4-.92-.59-1.43-.59-.52 0-1.04.2-1.43.59L10.3 9.45l-7.72 7.72c-.78.78-.78 2.05 0 2.83L4 21.41c.39.39.9.59 1.41.59.51 0 1.02-.2 1.41-.59l7.78-7.78 2.81-2.81c.8-.78.8-2.07 0-2.86zM5.41 20L4 18.59l7.72-7.72 1.47 1.35L5.41 20z\"/>\n",
              "  </svg>\n",
              "      </button>\n",
              "\n",
              "\n",
              "\n",
              "    <div id=\"df-d72f7080-c814-4264-b3b5-b2cd12f09116\">\n",
              "      <button class=\"colab-df-quickchart\" onclick=\"quickchart('df-d72f7080-c814-4264-b3b5-b2cd12f09116')\"\n",
              "              title=\"Suggest charts.\"\n",
              "              style=\"display:none;\">\n",
              "\n",
              "<svg xmlns=\"http://www.w3.org/2000/svg\" height=\"24px\"viewBox=\"0 0 24 24\"\n",
              "     width=\"24px\">\n",
              "    <g>\n",
              "        <path d=\"M19 3H5c-1.1 0-2 .9-2 2v14c0 1.1.9 2 2 2h14c1.1 0 2-.9 2-2V5c0-1.1-.9-2-2-2zM9 17H7v-7h2v7zm4 0h-2V7h2v10zm4 0h-2v-4h2v4z\"/>\n",
              "    </g>\n",
              "</svg>\n",
              "      </button>\n",
              "    </div>\n",
              "\n",
              "<style>\n",
              "  .colab-df-quickchart {\n",
              "    background-color: #E8F0FE;\n",
              "    border: none;\n",
              "    border-radius: 50%;\n",
              "    cursor: pointer;\n",
              "    display: none;\n",
              "    fill: #1967D2;\n",
              "    height: 32px;\n",
              "    padding: 0 0 0 0;\n",
              "    width: 32px;\n",
              "  }\n",
              "\n",
              "  .colab-df-quickchart:hover {\n",
              "    background-color: #E2EBFA;\n",
              "    box-shadow: 0px 1px 2px rgba(60, 64, 67, 0.3), 0px 1px 3px 1px rgba(60, 64, 67, 0.15);\n",
              "    fill: #174EA6;\n",
              "  }\n",
              "\n",
              "  [theme=dark] .colab-df-quickchart {\n",
              "    background-color: #3B4455;\n",
              "    fill: #D2E3FC;\n",
              "  }\n",
              "\n",
              "  [theme=dark] .colab-df-quickchart:hover {\n",
              "    background-color: #434B5C;\n",
              "    box-shadow: 0px 1px 3px 1px rgba(0, 0, 0, 0.15);\n",
              "    filter: drop-shadow(0px 1px 2px rgba(0, 0, 0, 0.3));\n",
              "    fill: #FFFFFF;\n",
              "  }\n",
              "</style>\n",
              "\n",
              "    <script>\n",
              "      async function quickchart(key) {\n",
              "        const containerElement = document.querySelector('#' + key);\n",
              "        const charts = await google.colab.kernel.invokeFunction(\n",
              "            'suggestCharts', [key], {});\n",
              "      }\n",
              "    </script>\n",
              "\n",
              "      <script>\n",
              "\n",
              "function displayQuickchartButton(domScope) {\n",
              "  let quickchartButtonEl =\n",
              "    domScope.querySelector('#df-d72f7080-c814-4264-b3b5-b2cd12f09116 button.colab-df-quickchart');\n",
              "  quickchartButtonEl.style.display =\n",
              "    google.colab.kernel.accessAllowed ? 'block' : 'none';\n",
              "}\n",
              "\n",
              "        displayQuickchartButton(document);\n",
              "      </script>\n",
              "      <style>\n",
              "    .colab-df-container {\n",
              "      display:flex;\n",
              "      flex-wrap:wrap;\n",
              "      gap: 12px;\n",
              "    }\n",
              "\n",
              "    .colab-df-convert {\n",
              "      background-color: #E8F0FE;\n",
              "      border: none;\n",
              "      border-radius: 50%;\n",
              "      cursor: pointer;\n",
              "      display: none;\n",
              "      fill: #1967D2;\n",
              "      height: 32px;\n",
              "      padding: 0 0 0 0;\n",
              "      width: 32px;\n",
              "    }\n",
              "\n",
              "    .colab-df-convert:hover {\n",
              "      background-color: #E2EBFA;\n",
              "      box-shadow: 0px 1px 2px rgba(60, 64, 67, 0.3), 0px 1px 3px 1px rgba(60, 64, 67, 0.15);\n",
              "      fill: #174EA6;\n",
              "    }\n",
              "\n",
              "    [theme=dark] .colab-df-convert {\n",
              "      background-color: #3B4455;\n",
              "      fill: #D2E3FC;\n",
              "    }\n",
              "\n",
              "    [theme=dark] .colab-df-convert:hover {\n",
              "      background-color: #434B5C;\n",
              "      box-shadow: 0px 1px 3px 1px rgba(0, 0, 0, 0.15);\n",
              "      filter: drop-shadow(0px 1px 2px rgba(0, 0, 0, 0.3));\n",
              "      fill: #FFFFFF;\n",
              "    }\n",
              "  </style>\n",
              "\n",
              "      <script>\n",
              "        const buttonEl =\n",
              "          document.querySelector('#df-b12c59c7-71e0-4acc-b7ff-bcf6cf173395 button.colab-df-convert');\n",
              "        buttonEl.style.display =\n",
              "          google.colab.kernel.accessAllowed ? 'block' : 'none';\n",
              "\n",
              "        async function convertToInteractive(key) {\n",
              "          const element = document.querySelector('#df-b12c59c7-71e0-4acc-b7ff-bcf6cf173395');\n",
              "          const dataTable =\n",
              "            await google.colab.kernel.invokeFunction('convertToInteractive',\n",
              "                                                     [key], {});\n",
              "          if (!dataTable) return;\n",
              "\n",
              "          const docLinkHtml = 'Like what you see? Visit the ' +\n",
              "            '<a target=\"_blank\" href=https://colab.research.google.com/notebooks/data_table.ipynb>data table notebook</a>'\n",
              "            + ' to learn more about interactive tables.';\n",
              "          element.innerHTML = '';\n",
              "          dataTable['output_type'] = 'display_data';\n",
              "          await google.colab.output.renderOutput(dataTable, element);\n",
              "          const docLink = document.createElement('div');\n",
              "          docLink.innerHTML = docLinkHtml;\n",
              "          element.appendChild(docLink);\n",
              "        }\n",
              "      </script>\n",
              "    </div>\n",
              "  </div>\n"
            ]
          },
          "metadata": {},
          "execution_count": 15
        }
      ]
    },
    {
      "cell_type": "code",
      "source": [
        "news_dataset.isnull().sum()\n",
        "\n",
        "# if null fix the dataset by this code\n",
        "# news_dataset = news_dataset.fillna('')\n"
      ],
      "metadata": {
        "colab": {
          "base_uri": "https://localhost:8080/"
        },
        "id": "EkETTwWy1xJp",
        "outputId": "bb6c9edc-2dd6-4b1b-a252-d55df88c8d47"
      },
      "execution_count": 16,
      "outputs": [
        {
          "output_type": "execute_result",
          "data": {
            "text/plain": [
              "label    0\n",
              "news     0\n",
              "dtype: int64"
            ]
          },
          "metadata": {},
          "execution_count": 16
        }
      ]
    },
    {
      "cell_type": "code",
      "source": [
        "X = news_dataset['news'].values\n",
        "Y = news_dataset['label'].values"
      ],
      "metadata": {
        "id": "1bf8muUE2Chd"
      },
      "execution_count": 31,
      "outputs": []
    },
    {
      "cell_type": "code",
      "source": [
        "print(X)"
      ],
      "metadata": {
        "colab": {
          "base_uri": "https://localhost:8080/"
        },
        "id": "9js5mwJA2xAm",
        "outputId": "c4dadb33-ece6-4010-d28a-a425c78296dd"
      },
      "execution_count": 32,
      "outputs": [
        {
          "output_type": "stream",
          "name": "stdout",
          "text": [
            "['Says the Annies List political group supports third-trimester abortions on demand.'\n",
            " 'When did the decline of coal start? It started when natural gas took off that started to begin in (President George W.) Bushs administration.'\n",
            " 'Hillary Clinton agrees with John McCain \"by voting to give George Bush the benefit of the doubt on Iran.\"'\n",
            " ...\n",
            " 'Says an alternative to Social Security that operates in Galveston County, Texas, has meant that participants will retire with a whole lot more money than under Social Security.'\n",
            " 'On lifting the U.S. Cuban embargo and allowing travel to Cuba.'\n",
            " \"The Department of Veterans Affairs has a manual out there telling our veterans stuff like, 'Are you really of value to your community?' You know, encouraging them to commit suicide.\"]\n"
          ]
        }
      ]
    },
    {
      "cell_type": "code",
      "source": [
        "print(Y)"
      ],
      "metadata": {
        "colab": {
          "base_uri": "https://localhost:8080/"
        },
        "id": "Xs6DUjz620G_",
        "outputId": "c45525df-8f98-4c16-f02f-aed67a24802d"
      },
      "execution_count": 33,
      "outputs": [
        {
          "output_type": "stream",
          "name": "stdout",
          "text": [
            "[False  True  True ...  True False False]\n"
          ]
        }
      ]
    },
    {
      "cell_type": "code",
      "source": [
        "vectorizer = TfidfVectorizer()"
      ],
      "metadata": {
        "id": "9KpVzIvh4G3o"
      },
      "execution_count": 34,
      "outputs": []
    },
    {
      "cell_type": "code",
      "source": [
        "vectorized_text = vectorizer.fit_transform(X)"
      ],
      "metadata": {
        "id": "vARukMnW40jV"
      },
      "execution_count": 35,
      "outputs": []
    },
    {
      "cell_type": "code",
      "source": [
        "print(vectorized_text)"
      ],
      "metadata": {
        "colab": {
          "base_uri": "https://localhost:8080/"
        },
        "id": "6giyAYNJ4_6W",
        "outputId": "9762e78b-edcc-4bff-9821-ea24f8127911"
      },
      "execution_count": 36,
      "outputs": [
        {
          "output_type": "stream",
          "name": "stdout",
          "text": [
            "  (0, 3278)\t0.3399228124530313\n",
            "  (0, 7728)\t0.13423338099593773\n",
            "  (0, 615)\t0.2886717774483849\n",
            "  (0, 11296)\t0.40886628948153914\n",
            "  (0, 11036)\t0.2747906206356454\n",
            "  (0, 10709)\t0.2672566797277703\n",
            "  (0, 5115)\t0.2918323060577216\n",
            "  (0, 8376)\t0.2847775347384892\n",
            "  (0, 6639)\t0.3217759953815641\n",
            "  (0, 1044)\t0.4270131065530063\n",
            "  (0, 10988)\t0.06789988196273675\n",
            "  (0, 9676)\t0.11063502017569249\n",
            "  (1, 751)\t0.18344925558463465\n",
            "  (1, 1964)\t0.2637044974582498\n",
            "  (1, 4910)\t0.20345578434235373\n",
            "  (1, 8554)\t0.13824225599506434\n",
            "  (1, 5687)\t0.06817998938144511\n",
            "  (1, 1532)\t0.2738716739054018\n",
            "  (1, 11110)\t0.07294419071852533\n",
            "  (1, 10980)\t0.10044548692913545\n",
            "  (1, 7674)\t0.19430717148304494\n",
            "  (1, 11138)\t0.184608104001816\n",
            "  (1, 4860)\t0.20468163128243344\n",
            "  (1, 7418)\t0.2540938948798941\n",
            "  (1, 10426)\t0.45919377613538964\n",
            "  :\t:\n",
            "  (10239, 6853)\t0.2728576807709281\n",
            "  (10239, 10594)\t0.2642652775131411\n",
            "  (10239, 3989)\t0.2642652775131411\n",
            "  (10239, 10918)\t0.24004465308468284\n",
            "  (10239, 8996)\t0.20614540733281858\n",
            "  (10239, 10660)\t0.2290615578511508\n",
            "  (10239, 2549)\t0.23145224982689586\n",
            "  (10239, 11622)\t0.23405107996162922\n",
            "  (10239, 2568)\t0.19624853016490562\n",
            "  (10239, 799)\t0.23405107996162922\n",
            "  (10239, 11660)\t0.36878918934913885\n",
            "  (10239, 12158)\t0.16005975326201\n",
            "  (10239, 3309)\t0.16812484412327416\n",
            "  (10239, 11004)\t0.15581607466763334\n",
            "  (10239, 11013)\t0.13210526388856295\n",
            "  (10239, 6603)\t0.1580751906378851\n",
            "  (10239, 6327)\t0.16997292042484244\n",
            "  (10239, 12151)\t0.2571349789616205\n",
            "  (10239, 1159)\t0.09896613395106785\n",
            "  (10239, 7824)\t0.11526334812523908\n",
            "  (10239, 7828)\t0.1295362567267961\n",
            "  (10239, 5267)\t0.09307190067265335\n",
            "  (10239, 11110)\t0.12329202807177836\n",
            "  (10239, 7672)\t0.11938293884132344\n",
            "  (10239, 10988)\t0.04531311285277443\n"
          ]
        }
      ]
    },
    {
      "cell_type": "code",
      "source": [],
      "metadata": {
        "id": "oiA9Vj2s5DAD"
      },
      "execution_count": null,
      "outputs": []
    }
  ]
}